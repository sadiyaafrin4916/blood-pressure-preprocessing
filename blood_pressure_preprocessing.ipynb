
# Blood Pressure Data Preprocessing

This notebook demonstrates the preprocessing steps on a blood pressure dataset.

## Step 1: Load Libraries and Dataset
```python
import pandas as pd
from sklearn.preprocessing import LabelEncoder, MinMaxScaler

df = pd.read_csv("blood_pressure.csv")
df.head()
```

## Step 2: Check for Missing Values
```python
df.isnull().sum()
```

## Step 3: Encode Categorical Features
```python
le_sex = LabelEncoder()
le_agegrp = LabelEncoder()
df['sex_encoded'] = le_sex.fit_transform(df['sex'])
df['agegrp_encoded'] = le_agegrp.fit_transform(df['agegrp'])
```

## Step 4: Normalize Numerical Features
```python
scaler = MinMaxScaler()
df[['bp_before_norm', 'bp_after_norm']] = scaler.fit_transform(df[['bp_before', 'bp_after']])
```

## Step 5: Final Preprocessed Data
```python
processed_df = df[['patient', 'sex_encoded', 'agegrp_encoded', 'bp_before_norm', 'bp_after_norm']]
processed_df.head()
```

## Step 6: Save the Preprocessed Data
```python
processed_df.to_csv("preprocessed_blood_pressure.csv", index=False)
```
